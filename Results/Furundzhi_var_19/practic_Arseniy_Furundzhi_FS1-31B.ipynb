{
 "cells": [
  {
   "cell_type": "markdown",
   "metadata": {},
   "source": [
    "# Практика"
   ]
  },
  {
   "cell_type": "markdown",
   "metadata": {},
   "source": [
    "Выполнил студент: Фурунджи Арсений \\\n",
    "Группа: ФН1-31Б"
   ]
  },
  {
   "cell_type": "code",
   "execution_count": 5,
   "metadata": {},
   "outputs": [],
   "source": [
    "import numpy as np\n",
    "import pandas as pd"
   ]
  },
  {
   "cell_type": "markdown",
   "metadata": {},
   "source": [
    "### Задание 1"
   ]
  },
  {
   "cell_type": "markdown",
   "metadata": {},
   "source": [
    "Определяем количество слагаемых по признаку Лейбница и находим значение ряда, используя \"наивное\" суммирование, а также напишем функцию суммирования по Кэхену:"
   ]
  },
  {
   "cell_type": "code",
   "execution_count": 6,
   "metadata": {},
   "outputs": [],
   "source": [
    "eps = np.math.pow(10, -12)\n",
    "def Summa(x, S):\n",
    "    n = 0\n",
    "    summ = 0\n",
    "    a = 1\n",
    "    term = np.array([])\n",
    "    while np.fabs(a) > eps:\n",
    "        a = np.divide(np.math.pow(-1, n) * np.math.factorial(2*n) * np.math.pow(x, -4*n-2), np.math.pow(4, n) * (2*n+1) * np.math.pow(np.math.factorial(n), 2))\n",
    "        term = np.append(term, a)\n",
    "        summ += a\n",
    "        n += 1\n",
    "    return(summ, n, term)\n",
    "\n",
    "def KahanSumm(n, term):\n",
    "    s = 0\n",
    "    c = 0\n",
    "    for i in range(n):\n",
    "        y = term[i] - c\n",
    "        t = s + y\n",
    "        c = (t - s) - y\n",
    "        s = t\n",
    "    return s"
   ]
  },
  {
   "cell_type": "markdown",
   "metadata": {},
   "source": [
    "Точка 1"
   ]
  },
  {
   "cell_type": "code",
   "execution_count": 10,
   "metadata": {},
   "outputs": [
    {
     "name": "stdout",
     "output_type": "stream",
     "text": [
      "x = 10, n = 4\n",
      "Точное значение суммы из условия задания:                   S = 0.009999833340832886\n",
      "\"Наивное\" суммирование:                                  Summ = 0.009999833340832888,  δ = -1.734723475976807e-18\n",
      "Суммирование в порядке возрастания слагаемых:    Ordered summ = 0.009999833340832888,  δ = -1.734723475976807e-18\n",
      "Суммирование по Кэхену:                            Kahan summ = 0.009999833340832888,  δ = -1.734723475976807e-18\n"
     ]
    }
   ],
   "source": [
    "x = 10\n",
    "S = np.arcsinh(np.divide(1, 100))\n",
    "summ, n, term = Summa(x, S)\n",
    "order_sum = np.sum(np.sort(term))\n",
    "kahan_sum = KahanSumm(n, term)\n",
    "print(f'x = {x}, n = {n}\\nТочное значение суммы из условия задания:                   S = {S}')\n",
    "print(f'\"Наивное\" суммирование:                                  Summ = {summ},  δ = {S - summ}')\n",
    "print(f'Суммирование в порядке возрастания слагаемых:    Ordered summ = {order_sum},  δ = {S - order_sum}')\n",
    "print(f'Суммирование по Кэхену:                            Kahan summ = {kahan_sum},  δ = {S - kahan_sum}')"
   ]
  },
  {
   "cell_type": "markdown",
   "metadata": {},
   "source": [
    "Точка 2"
   ]
  },
  {
   "cell_type": "code",
   "execution_count": 12,
   "metadata": {},
   "outputs": [
    {
     "name": "stdout",
     "output_type": "stream",
     "text": [
      "x = 1.0690449676496976, n = 76\n",
      "Точное значение суммы из условия задания:                   S = 0.790168725412397\n",
      "\"Наивное\" суммирование:                                  Summ = 0.7901687254120738,  δ = 3.2318592246838307e-13\n",
      "Суммирование в порядке возрастания слагаемых:    Ordered summ = 0.7901687254120736,  δ = 3.234079670733081e-13\n",
      "Суммирование по Кэхену:                            Kahan summ = 0.7901687254120736,  δ = 3.234079670733081e-13\n"
     ]
    }
   ],
   "source": [
    "x = np.divide(2*np.sqrt(2), np.sqrt(7))\n",
    "S = np.arcsinh(np.divide(7, 8))\n",
    "summ, n, term = Summa(x, S)\n",
    "order_sum = np.sum(np.sort(term))\n",
    "kahan_sum = KahanSumm(n, term)\n",
    "print(f'x = {x}, n = {n}\\nТочное значение суммы из условия задания:                   S = {S}')\n",
    "print(f'\"Наивное\" суммирование:                                  Summ = {summ},  δ = {S - summ}')\n",
    "print(f'Суммирование в порядке возрастания слагаемых:    Ordered summ = {order_sum},  δ = {S - order_sum}')\n",
    "print(f'Суммирование по Кэхену:                            Kahan summ = {kahan_sum},  δ = {S - kahan_sum}')\n"
   ]
  },
  {
   "cell_type": "markdown",
   "metadata": {},
   "source": [
    "### Задание 2"
   ]
  },
  {
   "cell_type": "code",
   "execution_count": 16,
   "metadata": {},
   "outputs": [
    {
     "data": {
      "text/html": [
       "<div>\n",
       "<style scoped>\n",
       "    .dataframe tbody tr th:only-of-type {\n",
       "        vertical-align: middle;\n",
       "    }\n",
       "\n",
       "    .dataframe tbody tr th {\n",
       "        vertical-align: top;\n",
       "    }\n",
       "\n",
       "    .dataframe thead th {\n",
       "        text-align: right;\n",
       "    }\n",
       "</style>\n",
       "<table border=\"1\" class=\"dataframe\">\n",
       "  <thead>\n",
       "    <tr style=\"text-align: right;\">\n",
       "      <th></th>\n",
       "      <th>x_i</th>\n",
       "      <th>n</th>\n",
       "      <th>sum_1</th>\n",
       "      <th>sum_2</th>\n",
       "    </tr>\n",
       "  </thead>\n",
       "  <tbody>\n",
       "    <tr>\n",
       "      <th>0</th>\n",
       "      <td>0.00</td>\n",
       "      <td>1</td>\n",
       "      <td>0.000000000000000</td>\n",
       "      <td>0.000000000000000</td>\n",
       "    </tr>\n",
       "    <tr>\n",
       "      <th>1</th>\n",
       "      <td>0.25</td>\n",
       "      <td>4</td>\n",
       "      <td>0.249133570318590</td>\n",
       "      <td>0.249133570318590</td>\n",
       "    </tr>\n",
       "    <tr>\n",
       "      <th>2</th>\n",
       "      <td>0.50</td>\n",
       "      <td>5</td>\n",
       "      <td>0.493107418044177</td>\n",
       "      <td>0.493107418044177</td>\n",
       "    </tr>\n",
       "    <tr>\n",
       "      <th>3</th>\n",
       "      <td>0.75</td>\n",
       "      <td>6</td>\n",
       "      <td>0.726954247149794</td>\n",
       "      <td>0.726954247149794</td>\n",
       "    </tr>\n",
       "    <tr>\n",
       "      <th>4</th>\n",
       "      <td>1.00</td>\n",
       "      <td>6</td>\n",
       "      <td>0.946083070354881</td>\n",
       "      <td>0.946083070354881</td>\n",
       "    </tr>\n",
       "    <tr>\n",
       "      <th>...</th>\n",
       "      <td>...</td>\n",
       "      <td>...</td>\n",
       "      <td>...</td>\n",
       "      <td>...</td>\n",
       "    </tr>\n",
       "    <tr>\n",
       "      <th>96</th>\n",
       "      <td>24.00</td>\n",
       "      <td>39</td>\n",
       "      <td>1.554738675159134</td>\n",
       "      <td>1.554738640785217</td>\n",
       "    </tr>\n",
       "    <tr>\n",
       "      <th>97</th>\n",
       "      <td>24.25</td>\n",
       "      <td>39</td>\n",
       "      <td>1.545997217836000</td>\n",
       "      <td>1.545997232198715</td>\n",
       "    </tr>\n",
       "    <tr>\n",
       "      <th>98</th>\n",
       "      <td>24.50</td>\n",
       "      <td>39</td>\n",
       "      <td>1.538964879791606</td>\n",
       "      <td>1.538964897394180</td>\n",
       "    </tr>\n",
       "    <tr>\n",
       "      <th>99</th>\n",
       "      <td>24.75</td>\n",
       "      <td>40</td>\n",
       "      <td>1.534039724267354</td>\n",
       "      <td>1.534039795398712</td>\n",
       "    </tr>\n",
       "    <tr>\n",
       "      <th>100</th>\n",
       "      <td>25.00</td>\n",
       "      <td>40</td>\n",
       "      <td>1.531482507900320</td>\n",
       "      <td>1.531482458114624</td>\n",
       "    </tr>\n",
       "  </tbody>\n",
       "</table>\n",
       "<p>101 rows × 4 columns</p>\n",
       "</div>"
      ],
      "text/plain": [
       "       x_i   n              sum_1              sum_2\n",
       "0     0.00   1  0.000000000000000  0.000000000000000\n",
       "1     0.25   4  0.249133570318590  0.249133570318590\n",
       "2     0.50   5  0.493107418044177  0.493107418044177\n",
       "3     0.75   6  0.726954247149794  0.726954247149794\n",
       "4     1.00   6  0.946083070354881  0.946083070354881\n",
       "..     ...  ..                ...                ...\n",
       "96   24.00  39  1.554738675159134  1.554738640785217\n",
       "97   24.25  39  1.545997217836000  1.545997232198715\n",
       "98   24.50  39  1.538964879791606  1.538964897394180\n",
       "99   24.75  40  1.534039724267354  1.534039795398712\n",
       "100  25.00  40  1.531482507900320  1.531482458114624\n",
       "\n",
       "[101 rows x 4 columns]"
      ]
     },
     "execution_count": 16,
     "metadata": {},
     "output_type": "execute_result"
    }
   ],
   "source": [
    "eps = np.math.pow(10, -8)\n",
    "w = np.linspace(0, 25, 101)\n",
    "\n",
    "def Si(x):\n",
    "    n = 0\n",
    "    a = 1\n",
    "    sum_1 = 0\n",
    "    temp = np.array([])\n",
    "    while np.fabs(a) > eps and n <= 100:\n",
    "        a = np.divide(np.math.pow(-1, n) * np.math.pow(x, 2*n+1), (2*n+1) * np.math.factorial(2*n+1))\n",
    "        temp = np.append(temp, a)\n",
    "        sum_1 += a\n",
    "        n += 1\n",
    "    sum_2 = np.sum(np.sort(temp))\n",
    "    return n, '{:.15f}'.format(sum_1), '{:.15f}'.format(sum_2)\n",
    "\n",
    "\n",
    "df = pd.DataFrame(columns=['x_i', 'n', 'sum_1', 'sum_2'])\n",
    "for i in np.arange(101):\n",
    "    df.loc[i] = [w[i], Si(w[i])[0], Si(w[i])[1], Si(w[i])[2]]\n",
    "df.to_csv('ARSdata.csv')\n",
    "df.head(101)"
   ]
  }
 ],
 "metadata": {
  "kernelspec": {
   "display_name": "Python 3",
   "language": "python",
   "name": "python3"
  },
  "language_info": {
   "codemirror_mode": {
    "name": "ipython",
    "version": 3
   },
   "file_extension": ".py",
   "mimetype": "text/x-python",
   "name": "python",
   "nbconvert_exporter": "python",
   "pygments_lexer": "ipython3",
   "version": "3.11.3"
  }
 },
 "nbformat": 4,
 "nbformat_minor": 2
}
