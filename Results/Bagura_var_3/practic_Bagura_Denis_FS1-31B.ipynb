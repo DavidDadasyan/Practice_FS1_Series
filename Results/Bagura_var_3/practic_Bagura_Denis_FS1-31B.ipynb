{
 "cells": [
  {
   "cell_type": "markdown",
   "metadata": {},
   "source": [
    "# Практика"
   ]
  },
  {
   "cell_type": "markdown",
   "metadata": {},
   "source": [
    "Выполнил студент: Багура Денис \\\n",
    "Группа: ФН1-31Б"
   ]
  },
  {
   "cell_type": "markdown",
   "metadata": {},
   "source": [
    "Импортируем библиотеки:"
   ]
  },
  {
   "cell_type": "code",
   "execution_count": 58,
   "metadata": {},
   "outputs": [],
   "source": [
    "import numpy as np\n",
    "import pandas as pd"
   ]
  },
  {
   "cell_type": "markdown",
   "metadata": {},
   "source": [
    "# Задание 1"
   ]
  },
  {
   "cell_type": "markdown",
   "metadata": {},
   "source": [
    "Определяем количество слагаемых по признаку Лейбница и находим значение ряда, используя \"наивное\" суммирование:"
   ]
  },
  {
   "cell_type": "code",
   "execution_count": 59,
   "metadata": {},
   "outputs": [],
   "source": [
    "ε = np.math.pow(10, -12)\n",
    "def Summa(x, S):\n",
    "    n = 0\n",
    "    summ = 0\n",
    "    a = 1\n",
    "    term = np.array([])\n",
    "    while np.fabs(a) > ε:\n",
    "        a = np.divide(np.math.pow(-1, n) * np.math.pow(x, n-1), np.math.factorial(n))\n",
    "        term = np.append(term, a)\n",
    "        summ += a\n",
    "        n += 1\n",
    "    return(summ, n, term)\n"
   ]
  },
  {
   "cell_type": "markdown",
   "metadata": {},
   "source": [
    "Функция суммирования по Кэхену:"
   ]
  },
  {
   "cell_type": "code",
   "execution_count": 60,
   "metadata": {},
   "outputs": [],
   "source": [
    "def KahanSumm(n, term):\n",
    "    s = 0\n",
    "    c = 0\n",
    "    for i in range(n):\n",
    "        y = term[i] - c\n",
    "        t = s + y\n",
    "        c = (t - s) - y\n",
    "        s = t\n",
    "    return s"
   ]
  },
  {
   "cell_type": "markdown",
   "metadata": {},
   "source": [
    "Для точки 1:"
   ]
  },
  {
   "cell_type": "code",
   "execution_count": 61,
   "metadata": {},
   "outputs": [
    {
     "name": "stdout",
     "output_type": "stream",
     "text": [
      "x = 1, n = 16\n",
      "Точное значение суммы из условия задания:                   S = 0.36787944117144233\n",
      "\"Наивное\" суммирование:                                  Summ = 0.3678794411713973,  δ = 4.50195436485501e-14\n",
      "Суммирование в порядке возрастания слагаемых:    Ordered summ = 0.36787944117139704, δ = 4.529709940470639e-14\n",
      "Суммирование по Кэхену:                            Kahan summ = 0.3678794411713972,  δ = 4.5130565951012613e-14\n"
     ]
    }
   ],
   "source": [
    "x = 1\n",
    "S = np.divide(1, np.e)\n",
    "summ, n, term = Summa(x, S)\n",
    "order_sum = np.sum(np.sort(term))\n",
    "kahan_sum = KahanSumm(n, term)\n",
    "print(f'x = {x}, n = {n}\\nТочное значение суммы из условия задания:                   S = {S}')\n",
    "print(f'\"Наивное\" суммирование:                                  Summ = {summ},  δ = {S - summ}')\n",
    "print(f'Суммирование в порядке возрастания слагаемых:    Ordered summ = {order_sum}, δ = {S - order_sum}')\n",
    "print(f'Суммирование по Кэхену:                            Kahan summ = {kahan_sum},  δ = {S - kahan_sum}')"
   ]
  },
  {
   "cell_type": "markdown",
   "metadata": {},
   "source": [
    "Для точки 2:"
   ]
  },
  {
   "cell_type": "code",
   "execution_count": 62,
   "metadata": {},
   "outputs": [
    {
     "name": "stdout",
     "output_type": "stream",
     "text": [
      "x = 11, n = 49\n",
      "Точное значение суммы из условия задания:                   S = 1.518336435476879e-06\n",
      "\"Наивное\" суммирование:                                  Summ = 1.5183365162563834e-06,  δ = -8.07795043827669e-14\n",
      "Суммирование в порядке возрастания слагаемых:    Ordered summ = 1.5183364894255647e-06,  δ = -5.3948685669390575e-14\n",
      "Суммирование по Кэхену:                            Kahan summ = 1.518336516256383e-06,   δ = -8.077950395925042e-14\n"
     ]
    }
   ],
   "source": [
    "x = 11\n",
    "S = np.divide(1, 11 * np.math.pow(np.e, 11))\n",
    "summ, n, term = Summa(x, S)\n",
    "order_sum = np.sum(np.sort(term))\n",
    "kahan_sum = KahanSumm(n, term)\n",
    "print(f'x = {x}, n = {n}\\nТочное значение суммы из условия задания:                   S = {S}')\n",
    "print(f'\"Наивное\" суммирование:                                  Summ = {summ},  δ = {S - summ}')\n",
    "print(f'Суммирование в порядке возрастания слагаемых:    Ordered summ = {order_sum},  δ = {S - order_sum}')\n",
    "print(f'Суммирование по Кэхену:                            Kahan summ = {kahan_sum},   δ = {S - kahan_sum}')"
   ]
  },
  {
   "cell_type": "markdown",
   "metadata": {},
   "source": [
    "# Задание 2"
   ]
  },
  {
   "cell_type": "code",
   "execution_count": 63,
   "metadata": {},
   "outputs": [],
   "source": [
    "ε = np.math.pow(10, -8)\n",
    "ω = np.linspace(2, 4, 101)"
   ]
  },
  {
   "cell_type": "markdown",
   "metadata": {},
   "source": [
    "Рассчитаем сумму ряда на основании первых 100 слагаемых через \"наивное\" суммирование и по Кэхену:"
   ]
  },
  {
   "cell_type": "code",
   "execution_count": 64,
   "metadata": {},
   "outputs": [],
   "source": [
    "def Dzeta(x):\n",
    "    a = 1\n",
    "    sum_1 = 0\n",
    "    temp = np.array([])\n",
    "    for n in np.arange(1, 101):\n",
    "        a = np.divide(1, np.math.pow(n, x))\n",
    "        temp = np.append(temp, a)\n",
    "        sum_1 += a\n",
    "    sum_2 = KahanSumm(100, temp)\n",
    "    return '{:.15f}'.format(sum_1), '{:.15f}'.format(sum_2)\n",
    "        "
   ]
  },
  {
   "cell_type": "markdown",
   "metadata": {},
   "source": [
    "Вывод результатов:"
   ]
  },
  {
   "cell_type": "code",
   "execution_count": 67,
   "metadata": {},
   "outputs": [
    {
     "data": {
      "text/html": [
       "<div>\n",
       "<style scoped>\n",
       "    .dataframe tbody tr th:only-of-type {\n",
       "        vertical-align: middle;\n",
       "    }\n",
       "\n",
       "    .dataframe tbody tr th {\n",
       "        vertical-align: top;\n",
       "    }\n",
       "\n",
       "    .dataframe thead th {\n",
       "        text-align: right;\n",
       "    }\n",
       "</style>\n",
       "<table border=\"1\" class=\"dataframe\">\n",
       "  <thead>\n",
       "    <tr style=\"text-align: right;\">\n",
       "      <th></th>\n",
       "      <th>x_i</th>\n",
       "      <th>sum_1</th>\n",
       "      <th>sum_2</th>\n",
       "    </tr>\n",
       "  </thead>\n",
       "  <tbody>\n",
       "    <tr>\n",
       "      <th>0</th>\n",
       "      <td>2.00</td>\n",
       "      <td>1.634983900184892</td>\n",
       "      <td>1.634983900184893</td>\n",
       "    </tr>\n",
       "    <tr>\n",
       "      <th>1</th>\n",
       "      <td>2.02</td>\n",
       "      <td>1.617677278771463</td>\n",
       "      <td>1.617677278771464</td>\n",
       "    </tr>\n",
       "    <tr>\n",
       "      <th>2</th>\n",
       "      <td>2.04</td>\n",
       "      <td>1.601005739227423</td>\n",
       "      <td>1.601005739227422</td>\n",
       "    </tr>\n",
       "    <tr>\n",
       "      <th>3</th>\n",
       "      <td>2.06</td>\n",
       "      <td>1.584939504416232</td>\n",
       "      <td>1.584939504416232</td>\n",
       "    </tr>\n",
       "    <tr>\n",
       "      <th>4</th>\n",
       "      <td>2.08</td>\n",
       "      <td>1.569450448561479</td>\n",
       "      <td>1.569450448561479</td>\n",
       "    </tr>\n",
       "    <tr>\n",
       "      <th>...</th>\n",
       "      <td>...</td>\n",
       "      <td>...</td>\n",
       "      <td>...</td>\n",
       "    </tr>\n",
       "    <tr>\n",
       "      <th>96</th>\n",
       "      <td>3.92</td>\n",
       "      <td>1.088050205552975</td>\n",
       "      <td>1.088050205552974</td>\n",
       "    </tr>\n",
       "    <tr>\n",
       "      <th>97</th>\n",
       "      <td>3.94</td>\n",
       "      <td>1.086577242142322</td>\n",
       "      <td>1.086577242142323</td>\n",
       "    </tr>\n",
       "    <tr>\n",
       "      <th>98</th>\n",
       "      <td>3.96</td>\n",
       "      <td>1.085132116216534</td>\n",
       "      <td>1.085132116216534</td>\n",
       "    </tr>\n",
       "    <tr>\n",
       "      <th>99</th>\n",
       "      <td>3.98</td>\n",
       "      <td>1.083714205680602</td>\n",
       "      <td>1.083714205680603</td>\n",
       "    </tr>\n",
       "    <tr>\n",
       "      <th>100</th>\n",
       "      <td>4.00</td>\n",
       "      <td>1.082322905344473</td>\n",
       "      <td>1.082322905344473</td>\n",
       "    </tr>\n",
       "  </tbody>\n",
       "</table>\n",
       "<p>101 rows × 3 columns</p>\n",
       "</div>"
      ],
      "text/plain": [
       "      x_i              sum_1              sum_2\n",
       "0    2.00  1.634983900184892  1.634983900184893\n",
       "1    2.02  1.617677278771463  1.617677278771464\n",
       "2    2.04  1.601005739227423  1.601005739227422\n",
       "3    2.06  1.584939504416232  1.584939504416232\n",
       "4    2.08  1.569450448561479  1.569450448561479\n",
       "..    ...                ...                ...\n",
       "96   3.92  1.088050205552975  1.088050205552974\n",
       "97   3.94  1.086577242142322  1.086577242142323\n",
       "98   3.96  1.085132116216534  1.085132116216534\n",
       "99   3.98  1.083714205680602  1.083714205680603\n",
       "100  4.00  1.082322905344473  1.082322905344473\n",
       "\n",
       "[101 rows x 3 columns]"
      ]
     },
     "execution_count": 67,
     "metadata": {},
     "output_type": "execute_result"
    }
   ],
   "source": [
    "df = pd.DataFrame(columns=['x_i', 'sum_1', 'sum_2'])\n",
    "for j in np.arange(101):\n",
    "    df.loc[j] = ['{:.2f}'.format(ω[j]), Dzeta(ω[j])[0], Dzeta(ω[j])[1]]\n",
    "df.to_csv('data.csv')\n",
    "df.head(101)"
   ]
  }
 ],
 "metadata": {
  "kernelspec": {
   "display_name": "Python 3",
   "language": "python",
   "name": "python3"
  },
  "language_info": {
   "codemirror_mode": {
    "name": "ipython",
    "version": 3
   },
   "file_extension": ".py",
   "mimetype": "text/x-python",
   "name": "python",
   "nbconvert_exporter": "python",
   "pygments_lexer": "ipython3",
   "version": "3.11.3"
  }
 },
 "nbformat": 4,
 "nbformat_minor": 2
}
