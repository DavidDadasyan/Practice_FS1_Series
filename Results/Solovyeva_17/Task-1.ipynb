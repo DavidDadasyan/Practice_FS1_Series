{
 "cells": [
  {
   "cell_type": "code",
   "execution_count": 262,
   "metadata": {},
   "outputs": [],
   "source": [
    "import numpy as np\n",
    "import math\n",
    "from math import factorial as f\n",
    "\n",
    "EPSILON = 1e-12\n"
   ]
  },
  {
   "attachments": {},
   "cell_type": "markdown",
   "metadata": {},
   "source": [
    "### -------- Первая точка ----------"
   ]
  },
  {
   "cell_type": "code",
   "execution_count": 295,
   "metadata": {},
   "outputs": [
    {
     "name": "stdout",
     "output_type": "stream",
     "text": [
      "ref = -1\n"
     ]
    }
   ],
   "source": [
    "def raw_sum(x):\n",
    "    return np.cos(x**2) - 1\n",
    "\n",
    "\n",
    "x = np.sqrt(np.pi)\n",
    "ref = -1\n",
    "print(f\"{ref = }\")\n"
   ]
  },
  {
   "cell_type": "code",
   "execution_count": 296,
   "metadata": {},
   "outputs": [
    {
     "data": {
      "text/plain": [
       "(array([ 1.00000000e+00, -4.93480220e+00,  4.05871213e+00, -1.33526277e+00,\n",
       "         2.35330630e-01, -2.58068914e-02,  1.92957431e-03, -1.04638105e-04,\n",
       "         4.30306959e-06, -1.38789525e-07,  3.60473080e-09, -7.70070713e-11,\n",
       "         1.37686473e-12, -2.09063234e-14]),\n",
       " 14)"
      ]
     },
     "execution_count": 296,
     "metadata": {},
     "output_type": "execute_result"
    }
   ],
   "source": [
    "coefficients = np.ones(shape=1)\n",
    "\n",
    "while abs(coefficients[-1]) > EPSILON:\n",
    "    n = coefficients.__len__()\n",
    "    coefficients = np.append(\n",
    "        coefficients, (-1) * x**4 * coefficients[-1] / (2 * n * (2 * n - 1))\n",
    "    )\n",
    "else:\n",
    "    n = coefficients.__len__()\n",
    "coefficients, n\n"
   ]
  },
  {
   "cell_type": "code",
   "execution_count": 297,
   "metadata": {},
   "outputs": [
    {
     "name": "stdout",
     "output_type": "stream",
     "text": [
      "direct_sum = -1.000e+00\n",
      "ref = -1.000e+00\n",
      "direct_sum - ref = 6.661e-16\n"
     ]
    }
   ],
   "source": [
    "direct_sum = raw_sum(x)\n",
    "n = coefficients.__len__()\n",
    "for i in range(n):\n",
    "    direct_sum -= coefficients[i]\n",
    "\n",
    "print(f\"{direct_sum = :.3e}\")\n",
    "print(f\"{ref = :.3e}\")\n",
    "print(f\"{direct_sum - ref = :.3e}\")\n"
   ]
  },
  {
   "cell_type": "code",
   "execution_count": 298,
   "metadata": {},
   "outputs": [
    {
     "name": "stdout",
     "output_type": "stream",
     "text": [
      "kahan_sum = -1.000e+00\n",
      "ref = -1.000e+00\n",
      "kahan_sum - ref = 6.661e-16\n"
     ]
    }
   ],
   "source": [
    "kahan_sum = 0\n",
    "c = 0\n",
    "for i in range(n):\n",
    "    y = coefficients[i] - c\n",
    "    t = kahan_sum + y\n",
    "    z = t - kahan_sum\n",
    "    c = z - y\n",
    "    kahan_sum = t\n",
    "kahan_sum = raw_sum(x) - kahan_sum\n",
    "print(f\"{kahan_sum = :.3e}\")\n",
    "print(f\"{ref = :.3e}\")\n",
    "print(f\"{kahan_sum - ref = :.3e}\")\n"
   ]
  },
  {
   "cell_type": "code",
   "execution_count": 299,
   "metadata": {},
   "outputs": [
    {
     "name": "stdout",
     "output_type": "stream",
     "text": [
      "ordered_sum = -1.000e+00\n",
      "ref = -1.000e+00\n",
      "ordered_sum-ref = 8.882e-16\n"
     ]
    }
   ],
   "source": [
    "ordered_sum = raw_sum(x)\n",
    "coefficients.sort()\n",
    "for i in range(n):\n",
    "    ordered_sum -= coefficients[i]\n",
    "\n",
    "print(f\"{ordered_sum = :.3e}\")\n",
    "print(f\"{ref = :.3e}\")\n",
    "print(f\"{ordered_sum-ref = :.3e}\")\n"
   ]
  },
  {
   "cell_type": "code",
   "execution_count": 300,
   "metadata": {},
   "outputs": [
    {
     "name": "stdout",
     "output_type": "stream",
     "text": [
      "\n",
      "x = 1.772e+00,\tn = 14.\n",
      "cos(x**2)-1 =   -1.000e+00 \n",
      "First (naive) precision = 6.661e-16\n",
      "Second  (ord) precision = 8.882e-16\n",
      "Third (Kahan) precision = 6.661e-16\n",
      "\n"
     ]
    }
   ],
   "source": [
    "print(\n",
    "    f\"\"\"\n",
    "{x = :.3e},\\t{n = }.\n",
    "cos(x**2)-1 =   {ref:.3e} \n",
    "First (naive) precision = {(direct_sum-ref):.3e}\n",
    "Second  (ord) precision = {(ordered_sum-ref):.3e}\n",
    "Third (Kahan) precision = {(kahan_sum-ref):.3e}\n",
    "\"\"\"\n",
    ")\n"
   ]
  },
  {
   "attachments": {},
   "cell_type": "markdown",
   "metadata": {},
   "source": [
    "### -------- Вторая точка ----------"
   ]
  },
  {
   "cell_type": "code",
   "execution_count": 301,
   "metadata": {},
   "outputs": [
    {
     "name": "stdout",
     "output_type": "stream",
     "text": [
      "ref = -1\n"
     ]
    }
   ],
   "source": [
    "x = np.sqrt(7 * np.pi)\n"
   ]
  },
  {
   "cell_type": "code",
   "execution_count": 362,
   "metadata": {},
   "outputs": [
    {
     "data": {
      "text/plain": [
       "(array([ 1.00000000e+00, -2.41805308e+02,  9.74496782e+03, -1.57092329e+05,\n",
       "         1.35663425e+06, -7.28980807e+06,  2.67077922e+07, -7.09679771e+07,\n",
       "         1.43003613e+08, -2.26006749e+08,  2.87629640e+08, -3.01083868e+08,\n",
       "         2.63781440e+08, -1.96257699e+08,  1.25545379e+08, -6.97874462e+07,\n",
       "         3.40221269e+07, -1.46644044e+07,  5.62846161e+06, -1.93597709e+06,\n",
       "         6.00166071e+05, -1.68552081e+05,  4.30832852e+04, -1.00654754e+04,\n",
       "         2.15769980e+03, -4.25912869e+02,  7.76681693e+01, -1.31240920e+01,\n",
       "         2.06069811e+00, -3.01444490e-01,  4.11812868e-02, -5.26591948e-03,\n",
       "         6.31610754e-04, -7.12013207e-05,  7.55788291e-06, -7.56743769e-07,\n",
       "         7.15902426e-08, -6.40907096e-09,  5.43771009e-10, -4.37851203e-11,\n",
       "         3.35046661e-12, -2.43950801e-13]),\n",
       " 42)"
      ]
     },
     "execution_count": 362,
     "metadata": {},
     "output_type": "execute_result"
    }
   ],
   "source": [
    "coefficients = np.ones(shape=1)\n",
    "\n",
    "while abs(coefficients[-1]) > EPSILON:\n",
    "    n = coefficients.__len__()\n",
    "    coefficients = np.append(\n",
    "        coefficients, (-1) * x**4 * coefficients[-1] / (2 * n * (2 * n - 1))\n",
    "    )\n",
    "else:\n",
    "    n = coefficients.__len__()\n",
    "coefficients, n\n"
   ]
  },
  {
   "cell_type": "code",
   "execution_count": 365,
   "metadata": {},
   "outputs": [
    {
     "name": "stdout",
     "output_type": "stream",
     "text": [
      "direct_sum = -1.000e+00\n",
      "ref = -1.000e+00\n",
      "direct_sum - ref = -1.938e-12\n"
     ]
    }
   ],
   "source": [
    "direct_sum = raw_sum(x)\n",
    "n = coefficients.__len__()\n",
    "for i in range(n):\n",
    "    direct_sum -= coefficients[i]\n",
    "\n",
    "print(f\"{direct_sum = :.3e}\")\n",
    "print(f\"{ref = :.3e}\")\n",
    "print(f\"{direct_sum - ref = :.3e}\")\n"
   ]
  },
  {
   "cell_type": "code",
   "execution_count": 364,
   "metadata": {},
   "outputs": [
    {
     "name": "stdout",
     "output_type": "stream",
     "text": [
      "kahan_sum = -1.000e+00\n",
      "ref = -1.000e+00\n",
      "kahan_sum - ref = -1.938e-12\n"
     ]
    }
   ],
   "source": [
    "kahan_sum = 0\n",
    "c = 0\n",
    "for i in range(n):\n",
    "    y = coefficients[i] - c\n",
    "    t = kahan_sum + y\n",
    "    z = t - kahan_sum\n",
    "    c = z - y\n",
    "    kahan_sum = t\n",
    "kahan_sum = raw_sum(x) - kahan_sum\n",
    "print(f\"{kahan_sum = :.3e}\")\n",
    "print(f\"{ref = :.3e}\")\n",
    "print(f\"{kahan_sum - ref = :.3e}\")\n"
   ]
  },
  {
   "cell_type": "code",
   "execution_count": 360,
   "metadata": {},
   "outputs": [
    {
     "name": "stdout",
     "output_type": "stream",
     "text": [
      "ordered_sum = -1.000e+00\n",
      "ref = -1.000e+00\n",
      "ordered_sum-ref = 1.788e-12\n"
     ]
    }
   ],
   "source": [
    "ordered_sum = raw_sum(x)\n",
    "coefficients.sort()\n",
    "for i in range(n):\n",
    "    ordered_sum -= coefficients[i]\n",
    "\n",
    "print(f\"{ordered_sum = :.3e}\")\n",
    "print(f\"{ref = :.3e}\")\n",
    "print(f\"{ordered_sum-ref = :.3e}\")\n"
   ]
  },
  {
   "cell_type": "code",
   "execution_count": 359,
   "metadata": {},
   "outputs": [
    {
     "name": "stdout",
     "output_type": "stream",
     "text": [
      "\n",
      "x = 4.689e+00,\tn = 42.\n",
      "cos(x**2)-1 =   -1.000e+00 \n",
      "First (naive) precision = -1.938e-12\n",
      "Second  (ord) precision = 1.788e-12\n",
      "Third (Kahan) precision = -1.938e-12\n",
      "\n"
     ]
    }
   ],
   "source": [
    "print(\n",
    "    f\"\"\"\n",
    "{x = :.3e},\\t{n = }.\n",
    "cos(x**2)-1 =   {ref:.3e} \n",
    "First (naive) precision = {(direct_sum-ref):.3e}\n",
    "Second  (ord) precision = {(ordered_sum-ref):.3e}\n",
    "Third (Kahan) precision = {(kahan_sum-ref):.3e}\n",
    "\"\"\"\n",
    ")\n"
   ]
  }
 ],
 "metadata": {
  "kernelspec": {
   "display_name": "Python 3",
   "language": "python",
   "name": "python3"
  },
  "language_info": {
   "codemirror_mode": {
    "name": "ipython",
    "version": 3
   },
   "file_extension": ".py",
   "mimetype": "text/x-python",
   "name": "python",
   "nbconvert_exporter": "python",
   "pygments_lexer": "ipython3",
   "version": "3.10.9"
  }
 },
 "nbformat": 4,
 "nbformat_minor": 2
}
