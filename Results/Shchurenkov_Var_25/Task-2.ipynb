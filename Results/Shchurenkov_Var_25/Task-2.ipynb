{
 "cells": [
  {
   "cell_type": "code",
   "execution_count": 39,
   "metadata": {},
   "outputs": [],
   "source": [
    "import numpy as np\n",
    "import math\n",
    "import matplotlib.pyplot as plt\n",
    "import pandas as pd\n",
    "import scipy.special as sp\n",
    "from decimal import Decimal\n",
    "\n",
    "\n",
    "def sum_lst(x):\n",
    "    coefficients = []\n",
    "    nth_nom = 1\n",
    "    summ1 = 0\n",
    "    summ2 = 0\n",
    "    n = -1\n",
    "    while abs(nth_nom) >= 1e-8:\n",
    "        n += 1\n",
    "        nth_nom = Decimal(((pow(-1,n))*((Decimal(x))**(Decimal(4*n+1))))/(Decimal((Decimal(4*n+1))*Decimal(math.factorial(2*n)))))\n",
    "        coefficients.append(Decimal(nth_nom))\n",
    "        if n == 100:\n",
    "            break\n",
    "\n",
    "    for i in range(n):\n",
    "        summ1 += Decimal(coefficients[i])\n",
    "\n",
    "    \n",
    "    for i in range(n-1):\n",
    "        for j in range(n-1-i):\n",
    "            if Decimal(coefficients[j]) > Decimal(coefficients[j+1]):\n",
    "                coefficients[j],coefficients[j+1] = Decimal(coefficients[j+1]),Decimal(coefficients[j])\n",
    "    for i in range(n):\n",
    "        summ2 += Decimal(coefficients[i])\n",
    "    res = ['{:.15f}'.format(x),'{:.15f}'.format(n),'{:.15f}'.format(summ1),'{:.15f}'.format(summ2)]\n",
    "    return res\n",
    "\n",
    "\n",
    "a = 0\n",
    "b = 10"
   ]
  },
  {
   "cell_type": "code",
   "execution_count": 40,
   "metadata": {},
   "outputs": [],
   "source": [
    "data = pd.DataFrame(columns=['x_i','n','sum1','sum2'])\n",
    "\n",
    "\n",
    "\n",
    "delta = 0.1\n",
    "\n",
    "t = a\n",
    "while t<=b:\n",
    "    data.loc[len(data)] = sum_lst(t)\n",
    "    t += delta\n",
    "\n",
    "data['sum1']=data['sum1'].astype(float)\n",
    "data['sum2']=data['sum2'].astype(float)\n",
    "data.to_csv('out.csv')"
   ]
  },
  {
   "cell_type": "code",
   "execution_count": 41,
   "metadata": {},
   "outputs": [
    {
     "data": {
      "text/plain": [
       "(0.4382591473903547, 0.779893400376823)"
      ]
     },
     "execution_count": 41,
     "metadata": {},
     "output_type": "execute_result"
    }
   ],
   "source": [
    "sp.fresnel(1)"
   ]
  },
  {
   "cell_type": "code",
   "execution_count": 42,
   "metadata": {},
   "outputs": [],
   "source": [
    "ref_data = pd.DataFrame(columns=['x','me','scipy', 'delta'])\n",
    "\n",
    "delta = 0.1\n",
    "\n",
    "t=a\n",
    "while t<=b:\n",
    "    ref_data.loc[len(ref_data)] = [round(t,2), '-',round((sp.fresnel(t*np.sqrt(2/np.pi))[1]*np.sqrt(np.pi/2)), 16), '-']\n",
    "    t += delta\n",
    "ref_data['me'] = data['sum1']\n",
    "ref_data['delta'] = abs(ref_data['me'] - ref_data['scipy'])\n",
    "ref_data.to_csv('check.csv')\n"
   ]
  }
 ],
 "metadata": {
  "kernelspec": {
   "display_name": "Python 3",
   "language": "python",
   "name": "python3"
  },
  "language_info": {
   "codemirror_mode": {
    "name": "ipython",
    "version": 3
   },
   "file_extension": ".py",
   "mimetype": "text/x-python",
   "name": "python",
   "nbconvert_exporter": "python",
   "pygments_lexer": "ipython3",
   "version": "3.11.3"
  }
 },
 "nbformat": 4,
 "nbformat_minor": 2
}
