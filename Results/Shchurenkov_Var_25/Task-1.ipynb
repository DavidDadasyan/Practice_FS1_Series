{
 "cells": [
  {
   "cell_type": "code",
   "execution_count": 170,
   "metadata": {},
   "outputs": [
    {
     "name": "stdout",
     "output_type": "stream",
     "text": [
      "529.834236561058901316\n"
     ]
    }
   ],
   "source": [
    "import numpy as np\n",
    "import math\n",
    "import matplotlib.pyplot as plt\n",
    "\n",
    "def fucktorial(n:int):\n",
    "    f = 1\n",
    "    if n%2 == 0:\n",
    "        for i in range(1,n//2+1):\n",
    "            f *= 2*i\n",
    "        return f\n",
    "    else:\n",
    "        for i in range((n-1)//2+1):\n",
    "            f *= 2*i + 1\n",
    "        return f\n",
    "\n",
    "x = 100\n",
    "sum = x*math.log(2*x)\n",
    "ordered_sum = x*math.log(2*x)\n",
    "kahan_sum = 0 \n",
    "c = 0\n",
    "\n",
    "ref = 100*np.arcsinh(100)\n",
    "print('{:.18f}'.format(ref))\n",
    "\n"
   ]
  },
  {
   "cell_type": "code",
   "execution_count": 171,
   "metadata": {},
   "outputs": [
    {
     "name": "stdout",
     "output_type": "stream",
     "text": [
      "[-0.0025, 9.375e-08, -5.208333333333333e-12, 3.41796875e-16]\n"
     ]
    }
   ],
   "source": [
    "coefficients = []\n",
    "\n",
    "nth_nom = 1\n",
    "\n",
    "n = 0\n",
    "\n",
    "while abs(nth_nom) >= 1e-12:\n",
    "    n += 1\n",
    "    nth_nom = ((-1)**n)*fucktorial(2*n-1)/(2*n*(fucktorial(2*n))*pow(x,2*n-1))\n",
    "    coefficients.append(nth_nom)\n",
    "\n",
    "print(coefficients)"
   ]
  },
  {
   "cell_type": "markdown",
   "metadata": {},
   "source": [
    "Числа верные, ура"
   ]
  },
  {
   "cell_type": "code",
   "execution_count": 172,
   "metadata": {},
   "outputs": [
    {
     "data": {
      "text/plain": [
       "4"
      ]
     },
     "execution_count": 172,
     "metadata": {},
     "output_type": "execute_result"
    }
   ],
   "source": [
    "n"
   ]
  },
  {
   "cell_type": "code",
   "execution_count": 173,
   "metadata": {},
   "outputs": [
    {
     "name": "stdout",
     "output_type": "stream",
     "text": [
      "529.834236561058901315846014767885208129883\n",
      "529.834236561058901315846014767885208129883\n",
      "0.0\n"
     ]
    }
   ],
   "source": [
    "for i in range(n):\n",
    "    sum -= coefficients[i]\n",
    "print('{:.39f}'.format(sum))\n",
    "print('{:.39f}'.format(ref))\n",
    "print('{:.39}'.format(sum-ref))"
   ]
  },
  {
   "cell_type": "code",
   "execution_count": 174,
   "metadata": {},
   "outputs": [
    {
     "name": "stdout",
     "output_type": "stream",
     "text": [
      "529.834236561058901315846014767885208129883\n",
      "529.834236561058901315846014767885208129883\n",
      "0.0\n"
     ]
    }
   ],
   "source": [
    "for i in range(n):\n",
    "    y = coefficients[i]-c\n",
    "    t = kahan_sum + y\n",
    "    z = t - kahan_sum\n",
    "    c = z - y\n",
    "    kahan_sum = t\n",
    "kahan_sum =  x*math.log(2*x) - kahan_sum\n",
    "print('{:.39f}'.format(kahan_sum))\n",
    "print('{:.39f}'.format(ref))\n",
    "print('{:.39}'.format(kahan_sum-ref))"
   ]
  },
  {
   "cell_type": "code",
   "execution_count": 175,
   "metadata": {},
   "outputs": [
    {
     "name": "stdout",
     "output_type": "stream",
     "text": [
      "529.834236561058901315846014767885208129883\n",
      "529.834236561058901315846014767885208129883\n",
      "0.0\n"
     ]
    }
   ],
   "source": [
    "for i in range(n-1):\n",
    "    for j in range(n-1-i):\n",
    "        if coefficients[j] > coefficients[j+1]:\n",
    "            coefficients[j],coefficients[j+1] = coefficients[j+1],coefficients[j]\n",
    "for i in range(n):\n",
    "    ordered_sum -= coefficients[i]\n",
    "print('{:.39f}'.format(ordered_sum))\n",
    "print('{:.39f}'.format(ref))\n",
    "print('{:.39}'.format(ordered_sum-ref))"
   ]
  },
  {
   "cell_type": "code",
   "execution_count": 176,
   "metadata": {},
   "outputs": [
    {
     "name": "stdout",
     "output_type": "stream",
     "text": [
      "\n",
      "x:  100,   n:  4.\n",
      "x*ln(2x):       529.83423656105890131584601476788520812988281250000000 \n",
      "First (naive) = 529.83423656105890131584601476788520812988281250000000, precision - 0.00000000000000000000000000000000000000000000000000\n",
      "Second  (ord) = 529.83423656105890131584601476788520812988281250000000, precision - 0.00000000000000000000000000000000000000000000000000\n",
      "Third (Kahan) = 529.83423656105890131584601476788520812988281250000000, precision - 0.00000000000000000000000000000000000000000000000000\n",
      "\n"
     ]
    }
   ],
   "source": [
    "print(f'''\n",
    "x:  {x},   n:  {n}.\n",
    "x*ln(2x):       {ref:.50f} \n",
    "First (naive) = {sum:.50f}, precision - {(sum-ref):.50f}\n",
    "Second  (ord) = {ordered_sum:.50f}, precision - {(ordered_sum-ref):.50f}\n",
    "Third (Kahan) = {kahan_sum:.50f}, precision - {(kahan_sum-ref):.50f}\n",
    "''')"
   ]
  },
  {
   "cell_type": "markdown",
   "metadata": {},
   "source": [
    "### -------- Вторая точка ----------"
   ]
  },
  {
   "cell_type": "code",
   "execution_count": 177,
   "metadata": {},
   "outputs": [
    {
     "name": "stdout",
     "output_type": "stream",
     "text": [
      "1.064222721334080246\n"
     ]
    }
   ],
   "source": [
    "x = np.divide(10,9)\n",
    "sum = x*math.log(2*x)\n",
    "ordered_sum = x*math.log(2*x)\n",
    "kahan_sum = 0 \n",
    "c = 0\n",
    "\n",
    "ref = x*np.arcsinh(x)\n",
    "print('{:.18f}'.format(ref))"
   ]
  },
  {
   "cell_type": "code",
   "execution_count": 178,
   "metadata": {},
   "outputs": [
    {
     "name": "stdout",
     "output_type": "stream",
     "text": [
      "[-0.22499999999999998, 0.06834374999999998, -0.030754687499999992, 0.016348038574218744, -0.00953417609648437, 0.005899271459699705, -0.0038032241920798703, 0.0025270641995030693, -0.0017184036556620872, 0.0011900804517287783, -0.0008364986976820876, 0.0005952211045694104, -0.0004279252319833335, 0.0003103658742479121, -0.00022681538090037412, 0.00016685549456274591, -0.00012346151888338263, 9.182450466951582e-05, -6.860892976318145e-05, 5.147470716644891e-05, -3.876360600901969e-05, 2.9290149114852555e-05, -2.220016122419684e-05, 1.6873856917985242e-05, -1.2858688916636812e-05, 9.822345398414693e-06, -7.519551088341916e-06, 5.768426037380149e-06, -4.433525828824946e-06, 3.4135932119037675e-06, -2.6326582820004967e-06, 2.0335357011938696e-06, -1.5730491043945963e-06, 1.2185075136467676e-06, -9.450943215846557e-07, 7.339248091055841e-07, -5.705957131654033e-07, 4.440985160206147e-07, -3.460026722155878e-07, 2.6983991525248215e-07, -2.1063886781338912e-07, 1.645723623602211e-07, -1.2868953494782352e-07, 1.0071185839210854e-07, -7.88775274926994e-08, 6.18224987752621e-08, -4.848938123722561e-08, 3.805753486363107e-08, -2.9889351246002435e-08, 2.3488905348885955e-08, -1.847008214717762e-08, 1.4531972379898388e-08, -1.1439854227009363e-08, 9.010474072412514e-09, -7.1006407960459905e-09, 5.5983775141082936e-09, -4.416049808635672e-09, 3.485023374173831e-09, -2.751506546952934e-09, 2.173311839942611e-09, -1.717331040844735e-09, 1.3575649307441493e-09, -1.0735845115578728e-09, 8.493282761656956e-10, -6.721614131241924e-10, 5.32139358417071e-10, -4.214309003597561e-10, 3.3386596236383373e-10, -2.6458088609105174e-10, 2.0974001791677696e-10, -1.6631705229510581e-10, 1.3192320562126633e-10, -1.046721144694761e-10, 8.307355121450677e-11, -6.59497662497629e-11, 5.236960641020061e-11, -4.159660689016936e-11, 3.304807344014454e-11, -2.6262813086996324e-11, 2.0875674070348923e-11, -1.6597449507783586e-11, 1.319900817515809e-11, -1.0498758186529979e-11, 8.352739700327987e-12, -6.646792329172556e-12, 5.290360496799871e-12, -4.21159245685194e-12, 3.3534614589367472e-12, -2.6706948430982834e-12, 2.127341977269937e-12, -1.6948475217895842e-12, 1.3505245499818745e-12, -1.0763441756827447e-12, 8.579757957804365e-13]\n"
     ]
    }
   ],
   "source": [
    "coefficients = []\n",
    "\n",
    "nth_nom = 1\n",
    "\n",
    "n = 0\n",
    "\n",
    "while abs(nth_nom) >= 1e-12:\n",
    "    n += 1\n",
    "    nth_nom = ((-1)**n)*fucktorial(2*n-1)/(2*n*(fucktorial(2*n))*pow(x,2*n-1))\n",
    "    coefficients.append(nth_nom)\n",
    "\n",
    "print(coefficients)"
   ]
  },
  {
   "cell_type": "code",
   "execution_count": 179,
   "metadata": {},
   "outputs": [
    {
     "data": {
      "text/plain": [
       "94"
      ]
     },
     "execution_count": 179,
     "metadata": {},
     "output_type": "execute_result"
    }
   ],
   "source": [
    "n"
   ]
  },
  {
   "cell_type": "code",
   "execution_count": 180,
   "metadata": {},
   "outputs": [
    {
     "name": "stdout",
     "output_type": "stream",
     "text": [
      "1.064222721333699217538537595828529447317\n",
      "1.064222721334080246080588949553202837706\n",
      "-3.8102854205135372467339038848876953125e-13\n"
     ]
    }
   ],
   "source": [
    "for i in range(n):\n",
    "    sum -= coefficients[i]\n",
    "print('{:.39f}'.format(sum))\n",
    "print('{:.39f}'.format(ref))\n",
    "print('{:.39}'.format(sum-ref))"
   ]
  },
  {
   "cell_type": "code",
   "execution_count": 181,
   "metadata": {},
   "outputs": [
    {
     "name": "stdout",
     "output_type": "stream",
     "text": [
      "1.064222721333699661627747445891145616770\n",
      "1.064222721334080246080588949553202837706\n",
      "-3.80584452841503662057220935821533203125e-13\n"
     ]
    }
   ],
   "source": [
    "for i in range(n):\n",
    "    y = coefficients[i]-c\n",
    "    t = kahan_sum + y\n",
    "    z = t - kahan_sum\n",
    "    c = z - y\n",
    "    kahan_sum = t\n",
    "kahan_sum =  x*math.log(2*x) - kahan_sum\n",
    "print('{:.39f}'.format(kahan_sum))\n",
    "print('{:.39f}'.format(ref))\n",
    "print('{:.39}'.format(kahan_sum-ref))"
   ]
  },
  {
   "cell_type": "code",
   "execution_count": 182,
   "metadata": {},
   "outputs": [
    {
     "name": "stdout",
     "output_type": "stream",
     "text": [
      "1.064222721333699217538537595828529447317\n",
      "1.064222721334080246080588949553202837706\n",
      "-3.8102854205135372467339038848876953125e-13\n"
     ]
    }
   ],
   "source": [
    "for i in range(n-1):\n",
    "    for j in range(n-1-i):\n",
    "        if coefficients[j] > coefficients[j+1]:\n",
    "            coefficients[j],coefficients[j+1] = coefficients[j+1],coefficients[j]\n",
    "for i in range(n):\n",
    "    ordered_sum -= coefficients[i]\n",
    "print('{:.39f}'.format(ordered_sum))\n",
    "print('{:.39f}'.format(ref))\n",
    "print('{:.39}'.format(ordered_sum-ref))"
   ]
  },
  {
   "cell_type": "code",
   "execution_count": 183,
   "metadata": {},
   "outputs": [
    {
     "name": "stdout",
     "output_type": "stream",
     "text": [
      "\n",
      "x:  1.1111111111111112,   n:  94.\n",
      "x*ln(2x):       1.06422272133408024608058895 \n",
      "First (naive) = 1.06422272133369921753853760, precision - -0.00000000000038102854205135\n",
      "Second  (ord) = 1.06422272133369921753853760, precision - -0.00000000000038102854205135\n",
      "Third (Kahan) = 1.06422272133369966162774745, precision - -0.00000000000038058445284150\n",
      "\n"
     ]
    }
   ],
   "source": [
    "print(f'''\n",
    "x:  {x},   n:  {n}.\n",
    "x*ln(2x):       {ref:.26f} \n",
    "First (naive) = {sum:.26f}, precision - {(sum-ref):.26f}\n",
    "Second  (ord) = {ordered_sum:.26f}, precision - {(ordered_sum-ref):.26f}\n",
    "Third (Kahan) = {kahan_sum:.26f}, precision - {(kahan_sum-ref):.26f}\n",
    "''')"
   ]
  }
 ],
 "metadata": {
  "kernelspec": {
   "display_name": "Python 3",
   "language": "python",
   "name": "python3"
  },
  "language_info": {
   "codemirror_mode": {
    "name": "ipython",
    "version": 3
   },
   "file_extension": ".py",
   "mimetype": "text/x-python",
   "name": "python",
   "nbconvert_exporter": "python",
   "pygments_lexer": "ipython3",
   "version": "3.11.3"
  }
 },
 "nbformat": 4,
 "nbformat_minor": 2
}
